{
  "cells": [
    {
      "cell_type": "markdown",
      "id": "f48454cb",
      "metadata": {
        "id": "f48454cb"
      },
      "source": [
        "## SVM Kernel Function"
      ]
    },
    {
      "cell_type": "code",
      "execution_count": 1,
      "id": "4cd9c998",
      "metadata": {
        "id": "4cd9c998"
      },
      "outputs": [],
      "source": [
        "# Load libraries\n",
        "import matplotlib.pyplot as plt\n",
        "import numpy as np\n",
        "import pandas as pd"
      ]
    },
    {
      "cell_type": "code",
      "execution_count": 2,
      "id": "663b5e53",
      "metadata": {
        "id": "663b5e53",
        "outputId": "93406b50-8bbe-41e9-d020-69671d2e9939",
        "colab": {
          "base_uri": "https://localhost:8080/",
          "height": 261
        }
      },
      "outputs": [
        {
          "output_type": "display_data",
          "data": {
            "text/plain": [
              "<Figure size 504x252 with 1 Axes>"
            ],
            "image/png": "[encoded data removed]"
          },
          "metadata": {
            "needs_background": "light"
          }
        }
      ],
      "source": [
        "# given data\n",
        "x1 = np.array([-1, -1])\n",
        "x2 = np.array([-1, +1])\n",
        "x3 = np.array([+1, -1])\n",
        "x4 = np.array([+1, +1])\n",
        "\n",
        "X = np.array([x1, x2, x3, x4])\n",
        "Y = np.array([-1, 1, 1, -1])  # outputs, 1 = Positive, -1 = Negative\n",
        "\n",
        "plt.rcParams[\"figure.figsize\"] = [7.00, 3.50]\n",
        "plt.rcParams[\"figure.autolayout\"] = True\n",
        "plt.grid()\n",
        "\n",
        "# plot each point in the input data \n",
        "for i, x in enumerate(X):\n",
        "    if Y[i] > 0:\n",
        "        # positive points are colored green\n",
        "        plt.plot(x[0], x[1], \"go\", label='Positive')\n",
        "    else:\n",
        "        # negative points are colored red\n",
        "        plt.plot(x[0], x[1], \"ro\", label='Negative')\n",
        "\n",
        "handles, labels = plt.gca().get_legend_handles_labels()\n",
        "by_label = dict(zip(labels, handles))\n",
        "plt.legend(by_label.values(), by_label.keys())\n",
        "plt.show()"
      ]
    },
    {
      "cell_type": "code",
      "execution_count": 3,
      "id": "ff5b237f",
      "metadata": {
        "id": "ff5b237f"
      },
      "outputs": [],
      "source": [
        "# Map the input [x1, x2] into a space consisting of x1 and x1x2"
      ]
    },
    {
      "cell_type": "code",
      "execution_count": 4,
      "id": "ecd84b60",
      "metadata": {
        "id": "ecd84b60",
        "outputId": "8b791d95-fd5a-49b9-bbe3-a10b8341054a",
        "colab": {
          "base_uri": "https://localhost:8080/"
        }
      },
      "outputs": [
        {
          "output_type": "stream",
          "name": "stdout",
          "text": [
            "[-1 -1] -> [-1, 1]\n",
            "[-1  1] -> [-1, -1]\n",
            "[ 1 -1] -> [1, -1]\n",
            "[1 1] -> [1, 1]\n"
          ]
        },
        {
          "output_type": "execute_result",
          "data": {
            "text/plain": [
              "array([[-1,  1],\n",
              "       [-1, -1],\n",
              "       [ 1, -1],\n",
              "       [ 1,  1]])"
            ]
          },
          "metadata": {},
          "execution_count": 4
        }
      ],
      "source": [
        "for i, x in enumerate(X):\n",
        "    print(f'{x} -> {[x[0], x[0] * x[1]]}')\n",
        "    X[i] = [x[0], x[0] * x[1]]\n",
        "X  "
      ]
    },
    {
      "cell_type": "code",
      "execution_count": 5,
      "id": "1e6f214e",
      "metadata": {
        "id": "1e6f214e",
        "outputId": "39d0a63c-f905-4cc6-c8c4-f0e5114718fd",
        "colab": {
          "base_uri": "https://localhost:8080/",
          "height": 261
        }
      },
      "outputs": [
        {
          "output_type": "display_data",
          "data": {
            "text/plain": [
              "<Figure size 504x252 with 1 Axes>"
            ],
            "image/png": "[encoded data removed]"
          },
          "metadata": {
            "needs_background": "light"
          }
        }
      ],
      "source": [
        "# given data\n",
        "x1 = np.array([-1, 1])\n",
        "x2 = np.array([-1, -1])\n",
        "x3 = np.array([+1, -1])\n",
        "x4 = np.array([+1, +1])\n",
        "\n",
        "X = np.array([x1, x2, x3, x4])\n",
        "Y = np.array([-1, 1, 1, -1])  # outputs, 1 = Positive, -1 = Negative\n",
        "\n",
        "plt.rcParams[\"figure.figsize\"] = [7.00, 3.50]\n",
        "plt.rcParams[\"figure.autolayout\"] = True\n",
        "plt.grid()\n",
        "\n",
        "# plot each point in the input data \n",
        "for i, x in enumerate(X):\n",
        "    if Y[i] > 0:\n",
        "        # positive points are colored green\n",
        "        plt.plot(x[0], x[1], \"go\", label='Positive')\n",
        "    else:\n",
        "        # negative points are colored red\n",
        "        plt.plot(x[0], x[1], \"ro\", label='Negative')\n",
        "\n",
        "handles, labels = plt.gca().get_legend_handles_labels()\n",
        "by_label = dict(zip(labels, handles))\n",
        "plt.legend(by_label.values(), by_label.keys())\n",
        "plt.show()"
      ]
    },
    {
      "cell_type": "code",
      "execution_count": 6,
      "id": "5bf366b7",
      "metadata": {
        "id": "5bf366b7"
      },
      "outputs": [],
      "source": [
        "# Draw the four input points in this space, and the maximal margin separator"
      ]
    },
    {
      "cell_type": "code",
      "execution_count": 7,
      "id": "08cd3cfa",
      "metadata": {
        "id": "08cd3cfa",
        "outputId": "ae064f8c-5367-4d98-e9b4-1b9716f5dd66",
        "colab": {
          "base_uri": "https://localhost:8080/",
          "height": 261
        }
      },
      "outputs": [
        {
          "output_type": "display_data",
          "data": {
            "text/plain": [
              "<Figure size 504x252 with 1 Axes>"
            ],
            "image/png": "[encoded data removed]"
          },
          "metadata": {
            "needs_background": "light"
          }
        }
      ],
      "source": [
        "# plot each point in the input data \n",
        "plt.rcParams[\"figure.figsize\"] = [7.00, 3.50]\n",
        "plt.rcParams[\"figure.autolayout\"] = True\n",
        "plt.grid()\n",
        "\n",
        "for i, x in enumerate(X):\n",
        "    if Y[i] > 0:\n",
        "        # positive points are colored green\n",
        "        plt.plot(x[0], x[1], \"go\", label='Positive')\n",
        "    else:\n",
        "        # negative points are colored red\n",
        "        plt.plot(x[0], x[1], \"ro\", label='Negative')\n",
        "\n",
        "plt.axhline(y=0, color='yellow', linestyle='-', label='maximal margin separator')\n",
        "handles, labels = plt.gca().get_legend_handles_labels() # https://stackoverflow.com/a/13589144\n",
        "by_label = dict(zip(labels, handles))\n",
        "plt.legend(by_label.values(), by_label.keys())\n",
        "plt.show()"
      ]
    },
    {
      "cell_type": "code",
      "execution_count": 8,
      "id": "8a598632",
      "metadata": {
        "id": "8a598632"
      },
      "outputs": [],
      "source": [
        "# Margin"
      ]
    },
    {
      "cell_type": "code",
      "execution_count": 9,
      "id": "e8ccdd11",
      "metadata": {
        "id": "e8ccdd11",
        "outputId": "55a47cb6-adf7-4173-d597-30095e042d35",
        "colab": {
          "base_uri": "https://localhost:8080/"
        }
      },
      "outputs": [
        {
          "output_type": "stream",
          "name": "stdout",
          "text": [
            "The margin is 1.0\n"
          ]
        }
      ],
      "source": [
        "# find the distance of the point from the line (a point on the separator line)\n",
        "mid = (x+x2)/2 # find a point on the line on the separator\n",
        "d = abs(np.cross(x2-x1,mid-x1)/np.linalg.norm(x2-x1))\n",
        "print(f'The margin is {d}')"
      ]
    },
    {
      "cell_type": "code",
      "execution_count": 9,
      "id": "7fe5f7b2",
      "metadata": {
        "id": "7fe5f7b2"
      },
      "outputs": [],
      "source": []
    }
  ],
  "metadata": {
    "kernelspec": {
      "display_name": "Python 3 (ipykernel)",
      "language": "python",
      "name": "python3"
    },
    "language_info": {
      "codemirror_mode": {
        "name": "ipython",
        "version": 3
      },
      "file_extension": ".py",
      "mimetype": "text/x-python",
      "name": "python",
      "nbconvert_exporter": "python",
      "pygments_lexer": "ipython3",
      "version": "3.9.12"
    },
    "colab": {
      "provenance": []
    }
  },
  "nbformat": 4,
  "nbformat_minor": 5
}